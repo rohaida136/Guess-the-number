{
 "cells": [
  {
   "cell_type": "code",
   "execution_count": 4,
   "metadata": {},
   "outputs": [
    {
     "name": "stdout",
     "output_type": "stream",
     "text": [
      "your guess was lower than the number\n",
      "your guess was higher than the number\n",
      "your guess was higher than the number\n",
      "you guessed it correctly! Well Done!\n"
     ]
    }
   ],
   "source": [
    "import random\n",
    "\n",
    "numbers = random.randint(1, 100)\n",
    "\n",
    "while True:\n",
    "    guess = input(\"Guess the number from 1 to 100\")\n",
    "    if guess.isnumeric():\n",
    "        guess = int(guess)\n",
    "        if(guess > numbers):\n",
    "            print(\"your guess was higher than the number\")\n",
    "            continue\n",
    "        elif(guess < numbers):\n",
    "            print(\"your guess was lower than the number\")\n",
    "            continue\n",
    "        else:\n",
    "            print(\"you guessed it correctly! Well Done!\")\n",
    "            break\n",
    "    else:\n",
    "        print(\"please enter a valid number\")\n",
    "        continue\n"
   ]
  },
  {
   "cell_type": "code",
   "execution_count": null,
   "metadata": {},
   "outputs": [],
   "source": []
  },
  {
   "cell_type": "code",
   "execution_count": null,
   "metadata": {},
   "outputs": [],
   "source": []
  },
  {
   "cell_type": "code",
   "execution_count": null,
   "metadata": {},
   "outputs": [],
   "source": []
  }
 ],
 "metadata": {
  "kernelspec": {
   "display_name": "Python 3.10.7 64-bit (microsoft store)",
   "language": "python",
   "name": "python3"
  },
  "language_info": {
   "codemirror_mode": {
    "name": "ipython",
    "version": 3
   },
   "file_extension": ".py",
   "mimetype": "text/x-python",
   "name": "python",
   "nbconvert_exporter": "python",
   "pygments_lexer": "ipython3",
   "version": "3.10.7"
  },
  "orig_nbformat": 4,
  "vscode": {
   "interpreter": {
    "hash": "ff6fcb6018863fa2e8255b2b082ca9df93967c3f6696c823ccd1480f9cdb5aae"
   }
  }
 },
 "nbformat": 4,
 "nbformat_minor": 2
}
